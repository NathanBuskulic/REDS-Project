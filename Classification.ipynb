{
 "cells": [
  {
   "cell_type": "markdown",
   "metadata": {},
   "source": [
    "## Importation des données"
   ]
  },
  {
   "cell_type": "code",
   "execution_count": 2,
   "metadata": {},
   "outputs": [],
   "source": [
    "import numpy as np\n",
    "import pandas as pd\n",
    "import seaborn as sns\n",
    "import matplotlib.pyplot as plt\n",
    "import sklearn\n",
    "from sklearn.tree import DecisionTreeClassifier\n",
    "from sklearn.model_selection import cross_validate\n",
    "from sklearn.svm import LinearSVC\n",
    "from sklearn.linear_model import Perceptron\n",
    "from sklearn.neighbors import KNeighborsClassifier\n",
    "from sklearn.ensemble import RandomForestClassifier\n",
    "from sklearn.metrics import confusion_matrix\n",
    "from sklearn.metrics import make_scorer\n",
    "from sklearn.model_selection import StratifiedKFold\n",
    "from sklearn.metrics import accuracy_score\n",
    "from sklearn.naive_bayes import GaussianNB\n",
    "from sklearn.ensemble import AdaBoostClassifier\n",
    "from sklearn.decomposition import PCA\n",
    "from sklearn.manifold import TSNE"
   ]
  },
  {
   "cell_type": "code",
   "execution_count": 3,
   "metadata": {},
   "outputs": [],
   "source": [
    "allData = pd.read_csv(\"atlas-higgs-challenge-2014-v2.csv\")"
   ]
  },
  {
   "cell_type": "code",
   "execution_count": 4,
   "metadata": {},
   "outputs": [
    {
     "data": {
      "text/html": [
       "<div>\n",
       "<style scoped>\n",
       "    .dataframe tbody tr th:only-of-type {\n",
       "        vertical-align: middle;\n",
       "    }\n",
       "\n",
       "    .dataframe tbody tr th {\n",
       "        vertical-align: top;\n",
       "    }\n",
       "\n",
       "    .dataframe thead th {\n",
       "        text-align: right;\n",
       "    }\n",
       "</style>\n",
       "<table border=\"1\" class=\"dataframe\">\n",
       "  <thead>\n",
       "    <tr style=\"text-align: right;\">\n",
       "      <th></th>\n",
       "      <th>EventId</th>\n",
       "      <th>DER_mass_transverse_met_lep</th>\n",
       "      <th>DER_mass_vis</th>\n",
       "      <th>DER_pt_h</th>\n",
       "      <th>DER_deltar_tau_lep</th>\n",
       "      <th>DER_pt_tot</th>\n",
       "      <th>DER_sum_pt</th>\n",
       "      <th>DER_pt_ratio_lep_tau</th>\n",
       "      <th>DER_met_phi_centrality</th>\n",
       "      <th>PRI_tau_pt</th>\n",
       "      <th>...</th>\n",
       "      <th>PRI_tau_phi</th>\n",
       "      <th>PRI_lep_pt</th>\n",
       "      <th>PRI_lep_eta</th>\n",
       "      <th>PRI_lep_phi</th>\n",
       "      <th>PRI_met</th>\n",
       "      <th>PRI_met_phi</th>\n",
       "      <th>PRI_met_sumet</th>\n",
       "      <th>PRI_jet_num</th>\n",
       "      <th>PRI_jet_all_pt</th>\n",
       "      <th>Label</th>\n",
       "    </tr>\n",
       "  </thead>\n",
       "  <tbody>\n",
       "    <tr>\n",
       "      <th>0</th>\n",
       "      <td>100000</td>\n",
       "      <td>51.655</td>\n",
       "      <td>97.827</td>\n",
       "      <td>27.980</td>\n",
       "      <td>3.064</td>\n",
       "      <td>41.928</td>\n",
       "      <td>197.760</td>\n",
       "      <td>1.582</td>\n",
       "      <td>1.396</td>\n",
       "      <td>32.638</td>\n",
       "      <td>...</td>\n",
       "      <td>0.381</td>\n",
       "      <td>51.626</td>\n",
       "      <td>2.273</td>\n",
       "      <td>-2.414</td>\n",
       "      <td>16.824</td>\n",
       "      <td>-0.277</td>\n",
       "      <td>258.733</td>\n",
       "      <td>2</td>\n",
       "      <td>113.497</td>\n",
       "      <td>1</td>\n",
       "    </tr>\n",
       "    <tr>\n",
       "      <th>1</th>\n",
       "      <td>100001</td>\n",
       "      <td>68.768</td>\n",
       "      <td>103.235</td>\n",
       "      <td>48.146</td>\n",
       "      <td>3.473</td>\n",
       "      <td>2.078</td>\n",
       "      <td>125.157</td>\n",
       "      <td>0.879</td>\n",
       "      <td>1.414</td>\n",
       "      <td>42.014</td>\n",
       "      <td>...</td>\n",
       "      <td>-3.011</td>\n",
       "      <td>36.918</td>\n",
       "      <td>0.501</td>\n",
       "      <td>0.103</td>\n",
       "      <td>44.704</td>\n",
       "      <td>-1.916</td>\n",
       "      <td>164.546</td>\n",
       "      <td>1</td>\n",
       "      <td>46.226</td>\n",
       "      <td>0</td>\n",
       "    </tr>\n",
       "    <tr>\n",
       "      <th>2</th>\n",
       "      <td>100002</td>\n",
       "      <td>162.172</td>\n",
       "      <td>125.953</td>\n",
       "      <td>35.635</td>\n",
       "      <td>3.148</td>\n",
       "      <td>9.336</td>\n",
       "      <td>197.814</td>\n",
       "      <td>3.776</td>\n",
       "      <td>1.414</td>\n",
       "      <td>32.154</td>\n",
       "      <td>...</td>\n",
       "      <td>-2.093</td>\n",
       "      <td>121.409</td>\n",
       "      <td>-0.953</td>\n",
       "      <td>1.052</td>\n",
       "      <td>54.283</td>\n",
       "      <td>-2.186</td>\n",
       "      <td>260.414</td>\n",
       "      <td>1</td>\n",
       "      <td>44.251</td>\n",
       "      <td>0</td>\n",
       "    </tr>\n",
       "    <tr>\n",
       "      <th>3</th>\n",
       "      <td>100003</td>\n",
       "      <td>81.417</td>\n",
       "      <td>80.943</td>\n",
       "      <td>0.414</td>\n",
       "      <td>3.310</td>\n",
       "      <td>0.414</td>\n",
       "      <td>75.968</td>\n",
       "      <td>2.354</td>\n",
       "      <td>-1.285</td>\n",
       "      <td>22.647</td>\n",
       "      <td>...</td>\n",
       "      <td>0.010</td>\n",
       "      <td>53.321</td>\n",
       "      <td>-0.522</td>\n",
       "      <td>-3.100</td>\n",
       "      <td>31.082</td>\n",
       "      <td>0.060</td>\n",
       "      <td>86.062</td>\n",
       "      <td>0</td>\n",
       "      <td>-0.000</td>\n",
       "      <td>0</td>\n",
       "    </tr>\n",
       "    <tr>\n",
       "      <th>4</th>\n",
       "      <td>100004</td>\n",
       "      <td>16.915</td>\n",
       "      <td>134.805</td>\n",
       "      <td>16.405</td>\n",
       "      <td>3.891</td>\n",
       "      <td>16.405</td>\n",
       "      <td>57.983</td>\n",
       "      <td>1.056</td>\n",
       "      <td>-1.385</td>\n",
       "      <td>28.209</td>\n",
       "      <td>...</td>\n",
       "      <td>-2.231</td>\n",
       "      <td>29.774</td>\n",
       "      <td>0.798</td>\n",
       "      <td>1.569</td>\n",
       "      <td>2.723</td>\n",
       "      <td>-0.871</td>\n",
       "      <td>53.131</td>\n",
       "      <td>0</td>\n",
       "      <td>0.000</td>\n",
       "      <td>0</td>\n",
       "    </tr>\n",
       "  </tbody>\n",
       "</table>\n",
       "<p>5 rows × 21 columns</p>\n",
       "</div>"
      ],
      "text/plain": [
       "   EventId  DER_mass_transverse_met_lep  DER_mass_vis  DER_pt_h  \\\n",
       "0   100000                       51.655        97.827    27.980   \n",
       "1   100001                       68.768       103.235    48.146   \n",
       "2   100002                      162.172       125.953    35.635   \n",
       "3   100003                       81.417        80.943     0.414   \n",
       "4   100004                       16.915       134.805    16.405   \n",
       "\n",
       "   DER_deltar_tau_lep  DER_pt_tot  DER_sum_pt  DER_pt_ratio_lep_tau  \\\n",
       "0               3.064      41.928     197.760                 1.582   \n",
       "1               3.473       2.078     125.157                 0.879   \n",
       "2               3.148       9.336     197.814                 3.776   \n",
       "3               3.310       0.414      75.968                 2.354   \n",
       "4               3.891      16.405      57.983                 1.056   \n",
       "\n",
       "   DER_met_phi_centrality  PRI_tau_pt  ...  PRI_tau_phi  PRI_lep_pt  \\\n",
       "0                   1.396      32.638  ...        0.381      51.626   \n",
       "1                   1.414      42.014  ...       -3.011      36.918   \n",
       "2                   1.414      32.154  ...       -2.093     121.409   \n",
       "3                  -1.285      22.647  ...        0.010      53.321   \n",
       "4                  -1.385      28.209  ...       -2.231      29.774   \n",
       "\n",
       "   PRI_lep_eta  PRI_lep_phi  PRI_met  PRI_met_phi  PRI_met_sumet  PRI_jet_num  \\\n",
       "0        2.273       -2.414   16.824       -0.277        258.733            2   \n",
       "1        0.501        0.103   44.704       -1.916        164.546            1   \n",
       "2       -0.953        1.052   54.283       -2.186        260.414            1   \n",
       "3       -0.522       -3.100   31.082        0.060         86.062            0   \n",
       "4        0.798        1.569    2.723       -0.871         53.131            0   \n",
       "\n",
       "   PRI_jet_all_pt  Label  \n",
       "0         113.497      1  \n",
       "1          46.226      0  \n",
       "2          44.251      0  \n",
       "3          -0.000      0  \n",
       "4           0.000      0  \n",
       "\n",
       "[5 rows x 21 columns]"
      ]
     },
     "execution_count": 4,
     "metadata": {},
     "output_type": "execute_result"
    }
   ],
   "source": [
    "# On remplace 999 par NaN\n",
    "allDataModified = allData.replace(-999,np.NaN)\n",
    "weights = allData[\"Weight\"].to_numpy().ravel()\n",
    "# On rend la variable de decision Label en int 0 et 1\n",
    "allDataModified[\"Label\"] = allDataModified[\"Label\"].apply(lambda x: 1 if x == \"s\" else 0)\n",
    "# On enlève les columns dont on ne va pas se servir\n",
    "allDataModified = allDataModified.drop(columns = [\"KaggleSet\",\"KaggleWeight\",\"Weight\"])\n",
    "allDataWithoutNan = allDataModified.dropna(axis=1)\n",
    "allDataModified = allDataModified.fillna(allDataModified.median())\n",
    "allDataWithoutNan.head()"
   ]
  },
  {
   "cell_type": "markdown",
   "metadata": {},
   "source": [
    "On découpe en train et test"
   ]
  },
  {
   "cell_type": "code",
   "execution_count": 5,
   "metadata": {},
   "outputs": [
    {
     "data": {
      "text/plain": [
       "array([1, 0, 0, ..., 0, 0, 0])"
      ]
     },
     "execution_count": 5,
     "metadata": {},
     "output_type": "execute_result"
    }
   ],
   "source": [
    "x = allDataModified.loc[:,allDataModified.columns != 'Label']\n",
    "x = x.loc[:, x.columns != 'EventId']\n",
    "y = allDataModified.loc[:,allDataModified.columns == 'Label']\n",
    "y = y.to_numpy().ravel()\n",
    "y"
   ]
  },
  {
   "cell_type": "code",
   "execution_count": 147,
   "metadata": {},
   "outputs": [
    {
     "name": "stdout",
     "output_type": "stream",
     "text": [
      "1\n",
      "2\n",
      "3\n",
      "4\n",
      "5\n",
      "6\n",
      "7\n",
      "8\n",
      "9\n",
      "10\n",
      "11\n",
      "12\n",
      "13\n",
      "14\n",
      "15\n",
      "16\n",
      "17\n",
      "18\n",
      "19\n"
     ]
    }
   ],
   "source": [
    "# Test avec PCA\n",
    "res = []\n",
    "for i in range(1,20):\n",
    "    print(i)\n",
    "    myPca = PCA(n_components=i)\n",
    "    myPca.fit(x)\n",
    "    res.append(sum(myPca.explained_variance_ratio_))\n",
    "\n",
    "#print(myPca.explained_variance_ratio_) \n",
    "#print(sum(myPca.explained_variance_ratio_))"
   ]
  },
  {
   "cell_type": "code",
   "execution_count": 148,
   "metadata": {},
   "outputs": [
    {
     "data": {
      "image/png": "[encoded data removed]",
      "text/plain": [
       "<Figure size 504x360 with 1 Axes>"
      ]
     },
     "metadata": {
      "needs_background": "light"
     },
     "output_type": "display_data"
    }
   ],
   "source": [
    "fig, ax = plt.subplots(figsize=(7,5))\n",
    "ax.plot(list(range(1,20)),res)\n",
    "plt.xlabel(\"Nombre de features gardées\")\n",
    "plt.ylabel(\"Variance expliquée\")\n",
    "fig.savefig(\"plots/pcaExplained.jpg\")"
   ]
  },
  {
   "cell_type": "markdown",
   "metadata": {},
   "source": [
    "code de la function AMS"
   ]
  },
  {
   "cell_type": "code",
   "execution_count": 92,
   "metadata": {},
   "outputs": [],
   "source": [
    "def AMS(y_true,y_pred,weights,br=10):\n",
    "    confMat = confusion_matrix(y_true,y_pred)\n",
    "    \n",
    "    s = 0\n",
    "    b = 0\n",
    "    for i in range(len(y_true)):\n",
    "        # Vrai positif\n",
    "        if y_pred[i] == 1:\n",
    "            if y_true[i] == 1:\n",
    "                s += weights[i]\n",
    "            else:\n",
    "                b += weights[i]\n",
    "    result = np.sqrt(2 * ((s+b+br) * np.log(1 + s / (b + br)) - s ) )\n",
    "    return result\n",
    "\n",
    "#amsScorer = make_scorer(AMS, greater_is_better=True)\n",
    "#AMS([0,0,1,1,1,1,1],\n",
    "    #[0,1,0,1,0,1,1])"
   ]
  },
  {
   "cell_type": "code",
   "execution_count": 93,
   "metadata": {},
   "outputs": [],
   "source": [
    "nbSplit = 5\n",
    "kf = StratifiedKFold(n_splits=nbSplit,shuffle=True,random_state=42)\n",
    "listIndexFolds = list(kf.split(x,y))\n",
    "#aa = list(kf.split(x,y))\n",
    "#print(aa[0][0].shape)\n",
    "#aa[0][1].shape\n",
    "#len(aa)\n",
    "#allDataModified.iloc[aa[0][1]]"
   ]
  },
  {
   "cell_type": "code",
   "execution_count": 149,
   "metadata": {},
   "outputs": [],
   "source": [
    "def crossValidation(predictor, x, y, listIndexFolds, weights=None):\n",
    "    \n",
    "    nbSplit = len(listIndexFolds)\n",
    "    result = np.zeros((2,nbSplit))\n",
    "    for foldCount, (indexTrain, indexTest) in enumerate(listIndexFolds):\n",
    "        print(\"FoldCount : \",foldCount)\n",
    "        xTrain = x.iloc[indexTrain,:] \n",
    "        xTest = x.iloc[indexTest,:]\n",
    "        yTrain = y[indexTrain]\n",
    "        yTest = y[indexTest]\n",
    "        \n",
    "        # PCA Stuff\n",
    "        #myPCA = PCA(n_components=7)\n",
    "        #myPCA.fit(xTrain)\n",
    "        #xTrain = myPCA.transform(xTrain)\n",
    "        #xTest = myPCA.transform(xTest)\n",
    "        \n",
    "        predictor.fit(xTrain,yTrain)\n",
    "        y_pred = predictor.predict(xTest)\n",
    "        \n",
    "        # Fonction de cout\n",
    "        score = accuracy_score(yTest, y_pred)\n",
    "        result[0,foldCount] = score\n",
    "        \n",
    "       \n",
    "        weightsTest = weights[indexTest]\n",
    "        amsScore = AMS(yTest, y_pred,weightsTest)\n",
    "        result[1,foldCount] = amsScore\n",
    "        \n",
    "    return result"
   ]
  },
  {
   "cell_type": "markdown",
   "metadata": {},
   "source": [
    "# Classification"
   ]
  },
  {
   "cell_type": "markdown",
   "metadata": {},
   "source": [
    "## Baselines"
   ]
  },
  {
   "cell_type": "markdown",
   "metadata": {},
   "source": [
    "Decision Tree with one node"
   ]
  },
  {
   "cell_type": "code",
   "execution_count": 150,
   "metadata": {},
   "outputs": [
    {
     "name": "stdout",
     "output_type": "stream",
     "text": [
      "FoldCount :  0\n",
      "FoldCount :  1\n",
      "FoldCount :  2\n",
      "FoldCount :  3\n",
      "FoldCount :  4\n",
      "accuracy :  0.6753181846808614  +-  0.0011572582589546951\n",
      "AMS :  0.7353346853511811  +-  0.0045488301957355955\n"
     ]
    }
   ],
   "source": [
    "mySimpleTree = DecisionTreeClassifier(max_depth = 1)\n",
    "cv_results = crossValidation(mySimpleTree,x,y,listIndexFolds, weights)\n",
    "print(\"accuracy : \", np.mean(cv_results[0,:]), \" +- \", np.std(cv_results[0,:])) \n",
    "print(\"AMS : \", np.mean(cv_results[1,:]), \" +- \", np.std(cv_results[1,:])) "
   ]
  },
  {
   "cell_type": "markdown",
   "metadata": {},
   "source": [
    "Perceptron"
   ]
  },
  {
   "cell_type": "code",
   "execution_count": 151,
   "metadata": {},
   "outputs": [
    {
     "name": "stdout",
     "output_type": "stream",
     "text": [
      "FoldCount :  0\n",
      "FoldCount :  1\n",
      "FoldCount :  2\n",
      "FoldCount :  3\n",
      "FoldCount :  4\n",
      "accuracy :  0.6048910785976203  +-  0.0792366976908214\n",
      "AMS :  0.47558836005820604  +-  0.11472271335131633\n"
     ]
    }
   ],
   "source": [
    "myPerceptron = Perceptron()\n",
    "cv_results = crossValidation(myPerceptron,x,y,listIndexFolds, weights)\n",
    "print(\"accuracy : \", np.mean(cv_results[0,:]), \" +- \", np.std(cv_results[0,:])) \n",
    "print(\"AMS : \", np.mean(cv_results[1,:]), \" +- \", np.std(cv_results[1,:])) "
   ]
  },
  {
   "cell_type": "markdown",
   "metadata": {},
   "source": [
    "Naive Bayes"
   ]
  },
  {
   "cell_type": "code",
   "execution_count": 152,
   "metadata": {},
   "outputs": [
    {
     "name": "stdout",
     "output_type": "stream",
     "text": [
      "FoldCount :  0\n",
      "FoldCount :  1\n",
      "FoldCount :  2\n",
      "FoldCount :  3\n",
      "FoldCount :  4\n",
      "accuracy :  0.7091359715209687  +-  0.0009307824128041385\n",
      "AMS :  0.5263344890306334  +-  0.01133812898612802\n"
     ]
    }
   ],
   "source": [
    "myBayes = GaussianNB()\n",
    "cv_results = crossValidation(myBayes,x,y,listIndexFolds, weights)\n",
    "print(\"accuracy : \", np.mean(cv_results[0,:]), \" +- \", np.std(cv_results[0,:])) \n",
    "print(\"AMS : \", np.mean(cv_results[1,:]), \" +- \", np.std(cv_results[1,:])) "
   ]
  },
  {
   "cell_type": "code",
   "execution_count": 126,
   "metadata": {},
   "outputs": [
    {
     "data": {
      "text/plain": [
       "[Text(167.4, 163.07999999999998, 'X[0] <= 48.993\\ngini = 0.45\\nsamples = 818238\\nvalue = [538678, 279560]'),\n",
       " Text(83.7, 54.360000000000014, 'gini = 0.5\\nsamples = 426453\\nvalue = [208902, 217551]'),\n",
       " Text(251.10000000000002, 54.360000000000014, 'gini = 0.266\\nsamples = 391785\\nvalue = [329776, 62009]')]"
      ]
     },
     "execution_count": 126,
     "metadata": {},
     "output_type": "execute_result"
    },
    {
     "data": {
      "image/png": "[encoded data removed]",
      "text/plain": [
       "<Figure size 432x288 with 1 Axes>"
      ]
     },
     "metadata": {
      "needs_background": "light"
     },
     "output_type": "display_data"
    }
   ],
   "source": [
    "mySimpleTree = DecisionTreeClassifier(max_depth = 1)\n",
    "mySimpleTree.fit(x,y)\n",
    "sklearn.tree.plot_tree(mySimpleTree)"
   ]
  },
  {
   "cell_type": "markdown",
   "metadata": {},
   "source": [
    "## Selection de variables "
   ]
  },
  {
   "cell_type": "markdown",
   "metadata": {},
   "source": [
    "## Méthodes d'ensemble avec exploration d'hyper paramètres"
   ]
  },
  {
   "cell_type": "markdown",
   "metadata": {},
   "source": [
    "Décider des paramètres à explorer pour le random forest"
   ]
  },
  {
   "cell_type": "code",
   "execution_count": 133,
   "metadata": {},
   "outputs": [],
   "source": [
    "nbArbres = [5,10,50]\n",
    "profMax = [10,100]"
   ]
  },
  {
   "cell_type": "code",
   "execution_count": 144,
   "metadata": {},
   "outputs": [
    {
     "name": "stdout",
     "output_type": "stream",
     "text": [
      "nb arbre = 5 \t profondeur= 10\n",
      "FoldCount :  0\n",
      "FoldCount :  1\n",
      "FoldCount :  2\n",
      "FoldCount :  3\n",
      "FoldCount :  4\n",
      "moyenne Accuracy : 0.8073250121926309  +-  0.0019502553102288588\n",
      "moyenne AMS : 1.089825940385336  +-  0.013797231472900488\n",
      "nb arbre = 5 \t profondeur= 100\n",
      "FoldCount :  0\n",
      "FoldCount :  1\n",
      "FoldCount :  2\n",
      "FoldCount :  3\n",
      "FoldCount :  4\n",
      "moyenne Accuracy : 0.7924858035428921  +-  0.0007557545018184981\n",
      "moyenne AMS : 0.9503512870838005  +-  0.0046284981924863515\n",
      "nb arbre = 10 \t profondeur= 10\n",
      "FoldCount :  0\n",
      "FoldCount :  1\n",
      "FoldCount :  2\n",
      "FoldCount :  3\n",
      "FoldCount :  4\n",
      "moyenne Accuracy : 0.8102850247167505  +-  0.0010283200304334063\n",
      "moyenne AMS : 1.1052390599886275  +-  0.008620029294542704\n",
      "nb arbre = 10 \t profondeur= 100\n",
      "FoldCount :  0\n",
      "FoldCount :  1\n",
      "FoldCount :  2\n",
      "FoldCount :  3\n",
      "FoldCount :  4\n",
      "moyenne Accuracy : 0.8050322762376592  +-  0.0007714129208567703\n",
      "moyenne AMS : 1.0549693989549231  +-  0.007043567907641162\n",
      "nb arbre = 50 \t profondeur= 10\n",
      "FoldCount :  0\n",
      "FoldCount :  1\n",
      "FoldCount :  2\n",
      "FoldCount :  3\n",
      "FoldCount :  4\n",
      "moyenne Accuracy : 0.810402353627736  +-  0.000541429383721824\n",
      "moyenne AMS : 1.1096308286257817  +-  0.011617851825103057\n",
      "nb arbre = 50 \t profondeur= 100\n",
      "FoldCount :  0\n",
      "FoldCount :  1\n",
      "FoldCount :  2\n",
      "FoldCount :  3\n",
      "FoldCount :  4\n",
      "moyenne Accuracy : 0.8169994560687931  +-  0.000733625120275338\n",
      "moyenne AMS : 1.1192891408969117  +-  0.008032116959914246\n",
      "[[0.80732501 0.7924858 ]\n",
      " [0.81028502 0.80503228]\n",
      " [0.81040235 0.81699946]]\n",
      "[[1.08982594 0.95035129]\n",
      " [1.10523906 1.0549694 ]\n",
      " [1.10963083 1.11928914]]\n"
     ]
    }
   ],
   "source": [
    "matriceAccMoyenne = np.zeros((len(nbArbres),len(profMax)))\n",
    "matriceAccVariance = np.zeros((len(nbArbres),len(profMax)))\n",
    "matriceAmsMoyenne = np.zeros((len(nbArbres),len(profMax)))\n",
    "matriceAmsVariance = np.zeros((len(nbArbres),len(profMax)))\n",
    "for countNbArb, nbArb in enumerate(nbArbres):\n",
    "    for countProf, profondeur in enumerate(profMax):\n",
    "        print(\"nb arbre =\",nbArb, \"\\t profondeur=\", profondeur)\n",
    "        myRandomForest = RandomForestClassifier(n_estimators=nbArb, max_depth=profondeur)\n",
    "        cv_results = crossValidation(myRandomForest,x,y,listIndexFolds,weights)\n",
    "        matriceAccMoyenne[countNbArb,countProf] = np.mean(cv_results[0,:])\n",
    "        matriceAccVariance[countNbArb,countProf] = np.std(cv_results[0,:])\n",
    "        matriceAmsMoyenne[countNbArb,countProf] = np.mean(cv_results[1,:])\n",
    "        matriceAmsVariance[countNbArb,countProf] = np.std(cv_results[1,:])\n",
    "        print(\"moyenne Accuracy :\",matriceAccMoyenne[countNbArb,countProf],\" +- \",matriceAccVariance[countNbArb,countProf])\n",
    "        print(\"moyenne AMS :\",matriceAmsMoyenne[countNbArb,countProf],\" +- \",matriceAmsVariance[countNbArb,countProf])\n",
    "print(matriceAccMoyenne)\n",
    "print(matriceAmsMoyenne)\n"
   ]
  },
  {
   "cell_type": "code",
   "execution_count": 17,
   "metadata": {},
   "outputs": [],
   "source": [
    "np.save(\"matriceMoyenneRandomForest\",matriceMoyenne)\n",
    "np.save(\"matriceVarianceRandomForest\",matriceVariance)"
   ]
  },
  {
   "cell_type": "code",
   "execution_count": 138,
   "metadata": {},
   "outputs": [
    {
     "data": {
      "text/plain": [
       "array([[1.04083554, 0.94523893],\n",
       "       [1.0493256 , 1.06526217],\n",
       "       [1.07228581, 1.14807336]])"
      ]
     },
     "execution_count": 138,
     "metadata": {},
     "output_type": "execute_result"
    }
   ],
   "source": [
    "matriceAmsMoyenne"
   ]
  },
  {
   "cell_type": "code",
   "execution_count": 145,
   "metadata": {},
   "outputs": [
    {
     "data": {
      "image/png": "[encoded data removed]",
      "text/plain": [
       "<Figure size 432x288 with 1 Axes>"
      ]
     },
     "metadata": {
      "needs_background": "light"
     },
     "output_type": "display_data"
    }
   ],
   "source": [
    "plt.errorbar(nbArbres,matriceAmsMoyenne[:,0],matriceAmsVariance[:,0],label=\"profondeurMax : \"+str(profMax[0]))\n",
    "plt.errorbar(nbArbres,matriceAmsMoyenne[:,1],matriceAmsVariance[:,1],label=\"profondeurMax : \"+str(profMax[1]))\n",
    "#plt.errorbar(nbArbres,matriceAmsMoyenne[2,:],matriceAmsVariance[2,:],label=\"profondeurMax : \"+str(profMax[2]))\n",
    "plt.legend()\n",
    "plt.xlabel(\"nb Arbres\")\n",
    "plt.ylabel(\"AMS score\")\n",
    "plt.savefig(\"RandomForestArbresFullData.jpg\")"
   ]
  },
  {
   "cell_type": "markdown",
   "metadata": {},
   "source": [
    "AdaBoost"
   ]
  },
  {
   "cell_type": "code",
   "execution_count": 163,
   "metadata": {},
   "outputs": [],
   "source": [
    "nbEstimators = [1,10,100]"
   ]
  },
  {
   "cell_type": "code",
   "execution_count": 130,
   "metadata": {},
   "outputs": [
    {
     "name": "stdout",
     "output_type": "stream",
     "text": [
      "nb estimator = 1\n",
      "FoldCount :  0\n",
      "FoldCount :  1\n",
      "FoldCount :  2\n",
      "FoldCount :  3\n",
      "FoldCount :  4\n",
      "moyenne Accuracy : 0.6686648582424661  +-  0.0036119702402740723\n",
      "moyenne AMS : 0.6719318117005948  +-  0.003932562199921801\n",
      "nb estimator = 10\n",
      "FoldCount :  0\n",
      "FoldCount :  1\n",
      "FoldCount :  2\n",
      "FoldCount :  3\n",
      "FoldCount :  4\n",
      "moyenne Accuracy : 0.7329028972485678  +-  0.001578043907248325\n",
      "moyenne AMS : 0.7919895991765877  +-  0.0039018190970426404\n",
      "nb estimator = 100\n",
      "FoldCount :  0\n",
      "FoldCount :  1\n",
      "FoldCount :  2\n",
      "FoldCount :  3\n",
      "FoldCount :  4\n",
      "moyenne Accuracy : 0.7448615210197482  +-  0.001296758870763722\n",
      "moyenne AMS : 0.8804928466412703  +-  0.00454290948581362\n",
      "[[0.66866486 0.7329029  0.74486152]\n",
      " [0.00361197 0.00157804 0.00129676]]\n",
      "[[0.67193181 0.7919896  0.88049285]\n",
      " [0.00393256 0.00390182 0.00454291]]\n"
     ]
    }
   ],
   "source": [
    "matAccAda = np.zeros((2,len(nbEstimators)))\n",
    "matAMSAda = np.zeros((2,len(nbEstimators)))\n",
    "for countNbEstimator, nbEst in enumerate(nbEstimators):\n",
    "    print(\"nb estimator =\",nbEst)\n",
    "    myAda = AdaBoostClassifier(n_estimators=nbEst)\n",
    "    cv_results = crossValidation(myAda,x,y,listIndexFolds,weights)\n",
    "    matAccAda[0,countNbEstimator] = np.mean(cv_results[0,:])\n",
    "    matAccAda[1,countNbEstimator] = np.std(cv_results[0,:])\n",
    "    matAMSAda[0,countNbEstimator] = np.mean(cv_results[1,:])\n",
    "    matAMSAda[1,countNbEstimator] = np.std(cv_results[1,:])\n",
    "    print(\"moyenne Accuracy :\",matAccAda[0,countNbEstimator],\" +- \",matAccAda[1,countNbEstimator])\n",
    "    print(\"moyenne AMS :\",matAMSAda[0,countNbEstimator],\" +- \",matAMSAda[1,countNbEstimator])\n",
    "print(matAccAda)\n",
    "print(matAMSAda)"
   ]
  },
  {
   "cell_type": "code",
   "execution_count": 154,
   "metadata": {},
   "outputs": [],
   "source": [
    "# AdaBoost sans pré traitement\n",
    "matAccAda = [[0.6681112348432099, 0.7985427234070376, 0.818378026249813],[0.0007297091458786361, 0.0010682124405013793, 0.0003511076476797158]]\n",
    "matAMSAda = [[0.7646952397593465,1.056955177522457,1.135298497505358],[0.004521009182686826,0.01022466867878882,0.007072179835980235 ]]"
   ]
  },
  {
   "cell_type": "code",
   "execution_count": 131,
   "metadata": {},
   "outputs": [],
   "source": [
    "np.save(\"matAccAdaPCA\",matAccAda)\n",
    "np.save(\"matAMSAdaPCA\",matAMSAda)"
   ]
  },
  {
   "cell_type": "code",
   "execution_count": 164,
   "metadata": {},
   "outputs": [
    {
     "data": {
      "image/png": "[encoded data removed]",
      "text/plain": [
       "<Figure size 432x288 with 1 Axes>"
      ]
     },
     "metadata": {
      "needs_background": "light"
     },
     "output_type": "display_data"
    }
   ],
   "source": [
    "plt.errorbar(nbEstimators,matAMSAda[0],matAMSAda[1],label=\"Adaboost\")\n",
    "plt.xlabel(\"Nombre d'estimateurs\")\n",
    "plt.ylabel(\"AMS score\")\n",
    "plt.legend()\n",
    "plt.savefig(\"AdaBoostFullData.jpg\")"
   ]
  },
  {
   "cell_type": "code",
   "execution_count": 160,
   "metadata": {},
   "outputs": [
    {
     "data": {
      "text/plain": [
       "[0.7646952397593465, 1.056955177522457, 1.135298497505358]"
      ]
     },
     "execution_count": 160,
     "metadata": {},
     "output_type": "execute_result"
    }
   ],
   "source": [
    "matAMSAda[0]"
   ]
  },
  {
   "cell_type": "markdown",
   "metadata": {},
   "source": [
    "# TP3 - SUB MANIFOLD"
   ]
  },
  {
   "cell_type": "code",
   "execution_count": null,
   "metadata": {},
   "outputs": [],
   "source": [
    "monTsne = TSNE(n_components=2)\n",
    "xReduit = monTsne.fit_transform(x)\n",
    "plt.plot(xReduit)"
   ]
  },
  {
   "cell_type": "code",
   "execution_count": null,
   "metadata": {},
   "outputs": [],
   "source": [
    "plt.scatter(xReduit[:,0], xReduit[:,1])"
   ]
  }
 ],
 "metadata": {
  "kernelspec": {
   "display_name": "Python 3",
   "language": "python",
   "name": "python3"
  },
  "language_info": {
   "codemirror_mode": {
    "name": "ipython",
    "version": 3
   },
   "file_extension": ".py",
   "mimetype": "text/x-python",
   "name": "python",
   "nbconvert_exporter": "python",
   "pygments_lexer": "ipython3",
   "version": "3.7.3"
  }
 },
 "nbformat": 4,
 "nbformat_minor": 2
}
